{
 "metadata": {
  "name": ""
 },
 "nbformat": 3,
 "nbformat_minor": 0,
 "worksheets": [
  {
   "cells": [
    {
     "cell_type": "code",
     "collapsed": false,
     "input": [
      "%matplotlib inline\n",
      "from netCDF4 import Dataset\n",
      "from sklearn import preprocessing\n",
      "import numpy as np\n",
      "import math\n",
      "import scipy\n",
      "import sys\n",
      "from sklearn.cluster import KMeans\n",
      "from sklearn.metrics import silhouette_samples, silhouette_score\n",
      "import matplotlib.cm as cm\n",
      "import matplotlib.pyplot as plt"
     ],
     "language": "python",
     "metadata": {},
     "outputs": [],
     "prompt_number": 1
    },
    {
     "cell_type": "code",
     "collapsed": false,
     "input": [
      "top_zn = 0\n",
      "bottom_zn = 18\n",
      "levels = bottom_zn-top_zn\n",
      "Z_lat = 79"
     ],
     "language": "python",
     "metadata": {},
     "outputs": [],
     "prompt_number": 224
    },
    {
     "cell_type": "code",
     "collapsed": false,
     "input": [
      "file_nm = '../data/T_11_1.nc'\n",
      "T = Dataset(file_nm,mode='r')\n",
      "print T.dimensions.keys()\n",
      "print T.variables.keys()\n",
      "lat = T.variables['lat'][:]\n",
      "lon = T.variables['lon'][:]\n",
      "lev = T.variables['lev'][:]\n",
      "T = T.variables['T'][:]\n",
      "T.shape\n",
      "print lev[top_zn:bottom_zn]\n",
      "lat = np.expand_dims(lat, axis=0)\n",
      "lat = np.expand_dims(lat, axis=0)\n",
      "lat = np.expand_dims(lat, axis=3)\n",
      "idx = np.where((lat>60)&(lat<=70))\n",
      "lat.shape"
     ],
     "language": "python",
     "metadata": {},
     "outputs": [
      {
       "output_type": "stream",
       "stream": "stdout",
       "text": [
        "[u'time', u'lev', u'lat', u'lon']\n",
        "[u'T', u'lat', u'lev', u'lon', u'time']\n",
        "[   1.244795    1.61285     2.079325    2.667425    3.404875    4.324575\n",
        "    5.4654      6.87285     8.599725   10.70705    13.26475    16.35175\n",
        "   20.05675    24.479      29.728      35.92325    43.19375    51.6775\n",
        "   61.5205     72.8745     85.65715   100.514695]"
       ]
      },
      {
       "output_type": "stream",
       "stream": "stdout",
       "text": [
        "\n"
       ]
      },
      {
       "metadata": {},
       "output_type": "pyout",
       "prompt_number": 225,
       "text": [
        "(1, 1, 96, 1)"
       ]
      }
     ],
     "prompt_number": 225
    },
    {
     "cell_type": "code",
     "collapsed": false,
     "input": [
      "Tmean1save = np.empty([1,levels])\n",
      "Tmean2save = np.empty([1,levels])\n",
      "Tmean3save = np.empty([1,levels])\n",
      "Tgradsave = np.empty([1,levels])\n",
      "Umean1save = np.empty([1,levels])\n",
      "Umean2save = np.empty([1,levels])\n",
      "ZAsave = np.empty([1,levels,3])\n",
      "Zphasesave = np.empty([1,levels,2])"
     ],
     "language": "python",
     "metadata": {},
     "outputs": [],
     "prompt_number": 226
    },
    {
     "cell_type": "code",
     "collapsed": false,
     "input": [
      "for year in range(11,60):\n",
      "    for mon in range(1,13):\n",
      "        \n",
      "        # Read in Temperature\n",
      "        file_nm = '../data/T_'+str(year)+'_'+str(mon)+'.nc'\n",
      "        T = Dataset(file_nm,mode='r')\n",
      "        T = T.variables['T'][:]\n",
      "        \n",
      "        # Calculte zonal averaged temperature for different latitudes and height\n",
      "        idx = np.where((lat>60)&(lat<=70))\n",
      "        Tmean1 = np.mean(np.sum(T[:,top_zn:bottom_zn,idx[2],:]*np.cos(lat[:,:,idx[2]]/180*math.pi),axis=2)/np.sum(np.cos(lat[:,:,idx[2]]/180*math.pi)),axis=2)\n",
      "        idx = np.where((lat>70)&(lat<=80))\n",
      "        Tmean2 = np.mean(np.sum(T[:,top_zn:bottom_zn,idx[2],:]*np.cos(lat[:,:,idx[2]]/180*math.pi),axis=2)/np.sum(np.cos(lat[:,:,idx[2]]/180*math.pi)),axis=2)\n",
      "        idx = np.where((lat>80)&(lat<=90))\n",
      "        Tmean3 = np.mean(np.sum(T[:,top_zn:bottom_zn,idx[2],:]*np.cos(lat[:,:,idx[2]]/180*math.pi),axis=2)/np.sum(np.cos(lat[:,:,idx[2]]/180*math.pi)),axis=2)\n",
      "        print Tmean3.shape\n",
      "        \n",
      "        # Calculate latitudinal temperature gradients\n",
      "        idx = np.where((lat>50)&(lat<=60))\n",
      "        Tmean4 = np.mean(np.sum(T[:,top_zn:bottom_zn,idx[2],:]*np.cos(lat[:,:,idx[2]]/180*math.pi),axis=2)/np.sum(np.cos(lat[:,:,idx[2]]/180*math.pi)),axis=2)\n",
      "        Tgrad = Tmean3-Tmean4\n",
      "        \n",
      "        # Calculate Zonal winds, zonally averaged for different latitudes and height\n",
      "        file_nm = '../data/U_'+str(year)+'_'+str(mon)+'.nc'\n",
      "        U = Dataset(file_nm,mode='r')\n",
      "        U = U.variables['U'][:]\n",
      "        idx = np.where((lat>60)&(lat<=70))\n",
      "        Umean1 = np.mean(np.sum(U[:,top_zn:bottom_zn,idx[2],:]*np.cos(lat[:,:,idx[2]]/180*math.pi),axis=2)/np.sum(np.cos(lat[:,:,idx[2]]/180*math.pi)),axis=2)\n",
      "        idx = np.where((lat>70)&(lat<=80))\n",
      "        Umean2 = np.mean(np.sum(U[:,top_zn:bottom_zn,idx[2],:]*np.cos(lat[:,:,idx[2]]/180*math.pi),axis=2)/np.sum(np.cos(lat[:,:,idx[2]]/180*math.pi)),axis=2)\n",
      "        \n",
      "        # Calculate Geopotential height\n",
      "        file_nm = '../data/Z3_'+str(year)+'_'+str(mon)+'.nc'\n",
      "        Z = Dataset(file_nm,mode='r')\n",
      "        Z = Z.variables['Z3'][:]\n",
      "        Z = Z[:,top_zn:bottom_zn,Z_lat,:]\n",
      "        # FFT to get wave number 1 and wave number 2 component\n",
      "        ZA = np.fft.fft(Z)\n",
      "        ZA = np.abs(ZA[:,:,0:3])\n",
      "        Zphase = np.angle(ZA[:,:,1:3])\n",
      "        \n",
      "        # Store features to save arrays\n",
      "        Tmean1save = np.append(Tmean1save,Tmean1,axis=0)\n",
      "        Tmean2save = np.append(Tmean2save,Tmean2,axis=0)\n",
      "        Tmean3save = np.append(Tmean3save,Tmean3,axis=0)\n",
      "        Tgradsave = np.append(Tgradsave,Tgrad,axis=0)\n",
      "        Umean1save = np.append(Umean1save,Umean1,axis=0)\n",
      "        Umean2save = np.append(Umean2save,Umean2,axis=0)\n",
      "        ZAsave = np.append(ZAsave,ZA,axis=0)\n",
      "        Zphasesave = np.append(Zphasesave,Zphase,axis=0)"
     ],
     "language": "python",
     "metadata": {},
     "outputs": [
      {
       "output_type": "stream",
       "stream": "stdout",
       "text": [
        "(31, 22)\n",
        "(28, 22)"
       ]
      },
      {
       "output_type": "stream",
       "stream": "stdout",
       "text": [
        "\n",
        "(31, 22)"
       ]
      },
      {
       "output_type": "stream",
       "stream": "stdout",
       "text": [
        "\n",
        "(31, 22)"
       ]
      },
      {
       "output_type": "stream",
       "stream": "stdout",
       "text": [
        "\n",
        "(28, 22)"
       ]
      },
      {
       "output_type": "stream",
       "stream": "stdout",
       "text": [
        "\n",
        "(31, 22)"
       ]
      },
      {
       "output_type": "stream",
       "stream": "stdout",
       "text": [
        "\n",
        "(31, 22)"
       ]
      },
      {
       "output_type": "stream",
       "stream": "stdout",
       "text": [
        "\n",
        "(28, 22)"
       ]
      },
      {
       "output_type": "stream",
       "stream": "stdout",
       "text": [
        "\n",
        "(31, 22)"
       ]
      },
      {
       "output_type": "stream",
       "stream": "stdout",
       "text": [
        "\n",
        "(31, 22)"
       ]
      },
      {
       "output_type": "stream",
       "stream": "stdout",
       "text": [
        "\n",
        "(28, 22)"
       ]
      },
      {
       "output_type": "stream",
       "stream": "stdout",
       "text": [
        "\n",
        "(31, 22)"
       ]
      },
      {
       "output_type": "stream",
       "stream": "stdout",
       "text": [
        "\n",
        "(31, 22)"
       ]
      },
      {
       "output_type": "stream",
       "stream": "stdout",
       "text": [
        "\n",
        "(28, 22)"
       ]
      },
      {
       "output_type": "stream",
       "stream": "stdout",
       "text": [
        "\n",
        "(31, 22)"
       ]
      },
      {
       "output_type": "stream",
       "stream": "stdout",
       "text": [
        "\n",
        "(31, 22)"
       ]
      },
      {
       "output_type": "stream",
       "stream": "stdout",
       "text": [
        "\n",
        "(28, 22)"
       ]
      },
      {
       "output_type": "stream",
       "stream": "stdout",
       "text": [
        "\n",
        "(31, 22)"
       ]
      },
      {
       "output_type": "stream",
       "stream": "stdout",
       "text": [
        "\n",
        "(31, 22)"
       ]
      },
      {
       "output_type": "stream",
       "stream": "stdout",
       "text": [
        "\n",
        "(28, 22)"
       ]
      },
      {
       "output_type": "stream",
       "stream": "stdout",
       "text": [
        "\n",
        "(31, 22)"
       ]
      },
      {
       "output_type": "stream",
       "stream": "stdout",
       "text": [
        "\n",
        "(31, 22)"
       ]
      },
      {
       "output_type": "stream",
       "stream": "stdout",
       "text": [
        "\n",
        "(28, 22)"
       ]
      },
      {
       "output_type": "stream",
       "stream": "stdout",
       "text": [
        "\n",
        "(31, 22)"
       ]
      },
      {
       "output_type": "stream",
       "stream": "stdout",
       "text": [
        "\n",
        "(31, 22)"
       ]
      },
      {
       "output_type": "stream",
       "stream": "stdout",
       "text": [
        "\n",
        "(28, 22)"
       ]
      },
      {
       "output_type": "stream",
       "stream": "stdout",
       "text": [
        "\n",
        "(31, 22)"
       ]
      },
      {
       "output_type": "stream",
       "stream": "stdout",
       "text": [
        "\n",
        "(31, 22)"
       ]
      },
      {
       "output_type": "stream",
       "stream": "stdout",
       "text": [
        "\n",
        "(28, 22)"
       ]
      },
      {
       "output_type": "stream",
       "stream": "stdout",
       "text": [
        "\n",
        "(31, 22)"
       ]
      },
      {
       "output_type": "stream",
       "stream": "stdout",
       "text": [
        "\n",
        "(31, 22)"
       ]
      },
      {
       "output_type": "stream",
       "stream": "stdout",
       "text": [
        "\n",
        "(28, 22)"
       ]
      },
      {
       "output_type": "stream",
       "stream": "stdout",
       "text": [
        "\n",
        "(31, 22)"
       ]
      },
      {
       "output_type": "stream",
       "stream": "stdout",
       "text": [
        "\n",
        "(31, 22)"
       ]
      },
      {
       "output_type": "stream",
       "stream": "stdout",
       "text": [
        "\n",
        "(28, 22)"
       ]
      },
      {
       "output_type": "stream",
       "stream": "stdout",
       "text": [
        "\n",
        "(31, 22)"
       ]
      },
      {
       "output_type": "stream",
       "stream": "stdout",
       "text": [
        "\n",
        "(31, 22)"
       ]
      },
      {
       "output_type": "stream",
       "stream": "stdout",
       "text": [
        "\n",
        "(28, 22)"
       ]
      },
      {
       "output_type": "stream",
       "stream": "stdout",
       "text": [
        "\n",
        "(31, 22)"
       ]
      },
      {
       "output_type": "stream",
       "stream": "stdout",
       "text": [
        "\n",
        "(31, 22)"
       ]
      },
      {
       "output_type": "stream",
       "stream": "stdout",
       "text": [
        "\n",
        "(28, 22)"
       ]
      },
      {
       "output_type": "stream",
       "stream": "stdout",
       "text": [
        "\n",
        "(31, 22)"
       ]
      },
      {
       "output_type": "stream",
       "stream": "stdout",
       "text": [
        "\n",
        "(31, 22)"
       ]
      },
      {
       "output_type": "stream",
       "stream": "stdout",
       "text": [
        "\n",
        "(28, 22)"
       ]
      },
      {
       "output_type": "stream",
       "stream": "stdout",
       "text": [
        "\n",
        "(31, 22)"
       ]
      },
      {
       "output_type": "stream",
       "stream": "stdout",
       "text": [
        "\n",
        "(31, 22)"
       ]
      },
      {
       "output_type": "stream",
       "stream": "stdout",
       "text": [
        "\n",
        "(28, 22)"
       ]
      },
      {
       "output_type": "stream",
       "stream": "stdout",
       "text": [
        "\n",
        "(31, 22)"
       ]
      },
      {
       "output_type": "stream",
       "stream": "stdout",
       "text": [
        "\n",
        "(31, 22)"
       ]
      },
      {
       "output_type": "stream",
       "stream": "stdout",
       "text": [
        "\n",
        "(28, 22)"
       ]
      },
      {
       "output_type": "stream",
       "stream": "stdout",
       "text": [
        "\n",
        "(31, 22)"
       ]
      },
      {
       "output_type": "stream",
       "stream": "stdout",
       "text": [
        "\n",
        "(31, 22)"
       ]
      },
      {
       "output_type": "stream",
       "stream": "stdout",
       "text": [
        "\n",
        "(28, 22)"
       ]
      },
      {
       "output_type": "stream",
       "stream": "stdout",
       "text": [
        "\n",
        "(31, 22)"
       ]
      },
      {
       "output_type": "stream",
       "stream": "stdout",
       "text": [
        "\n",
        "(31, 22)"
       ]
      },
      {
       "output_type": "stream",
       "stream": "stdout",
       "text": [
        "\n",
        "(28, 22)"
       ]
      },
      {
       "output_type": "stream",
       "stream": "stdout",
       "text": [
        "\n",
        "(31, 22)"
       ]
      },
      {
       "output_type": "stream",
       "stream": "stdout",
       "text": [
        "\n",
        "(31, 22)"
       ]
      },
      {
       "output_type": "stream",
       "stream": "stdout",
       "text": [
        "\n",
        "(28, 22)"
       ]
      },
      {
       "output_type": "stream",
       "stream": "stdout",
       "text": [
        "\n",
        "(31, 22)"
       ]
      },
      {
       "output_type": "stream",
       "stream": "stdout",
       "text": [
        "\n",
        "(31, 22)"
       ]
      },
      {
       "output_type": "stream",
       "stream": "stdout",
       "text": [
        "\n",
        "(28, 22)"
       ]
      },
      {
       "output_type": "stream",
       "stream": "stdout",
       "text": [
        "\n",
        "(31, 22)"
       ]
      },
      {
       "output_type": "stream",
       "stream": "stdout",
       "text": [
        "\n",
        "(31, 22)"
       ]
      },
      {
       "output_type": "stream",
       "stream": "stdout",
       "text": [
        "\n",
        "(28, 22)"
       ]
      },
      {
       "output_type": "stream",
       "stream": "stdout",
       "text": [
        "\n",
        "(31, 22)"
       ]
      },
      {
       "output_type": "stream",
       "stream": "stdout",
       "text": [
        "\n",
        "(31, 22)"
       ]
      },
      {
       "output_type": "stream",
       "stream": "stdout",
       "text": [
        "\n",
        "(28, 22)"
       ]
      },
      {
       "output_type": "stream",
       "stream": "stdout",
       "text": [
        "\n",
        "(31, 22)"
       ]
      },
      {
       "output_type": "stream",
       "stream": "stdout",
       "text": [
        "\n",
        "(31, 22)"
       ]
      },
      {
       "output_type": "stream",
       "stream": "stdout",
       "text": [
        "\n",
        "(28, 22)"
       ]
      },
      {
       "output_type": "stream",
       "stream": "stdout",
       "text": [
        "\n",
        "(31, 22)"
       ]
      },
      {
       "output_type": "stream",
       "stream": "stdout",
       "text": [
        "\n",
        "(31, 22)"
       ]
      },
      {
       "output_type": "stream",
       "stream": "stdout",
       "text": [
        "\n",
        "(28, 22)"
       ]
      },
      {
       "output_type": "stream",
       "stream": "stdout",
       "text": [
        "\n",
        "(31, 22)"
       ]
      },
      {
       "output_type": "stream",
       "stream": "stdout",
       "text": [
        "\n",
        "(31, 22)"
       ]
      },
      {
       "output_type": "stream",
       "stream": "stdout",
       "text": [
        "\n",
        "(28, 22)"
       ]
      },
      {
       "output_type": "stream",
       "stream": "stdout",
       "text": [
        "\n",
        "(31, 22)"
       ]
      },
      {
       "output_type": "stream",
       "stream": "stdout",
       "text": [
        "\n",
        "(31, 22)"
       ]
      },
      {
       "output_type": "stream",
       "stream": "stdout",
       "text": [
        "\n",
        "(28, 22)"
       ]
      },
      {
       "output_type": "stream",
       "stream": "stdout",
       "text": [
        "\n",
        "(31, 22)"
       ]
      },
      {
       "output_type": "stream",
       "stream": "stdout",
       "text": [
        "\n",
        "(31, 22)"
       ]
      },
      {
       "output_type": "stream",
       "stream": "stdout",
       "text": [
        "\n",
        "(28, 22)"
       ]
      },
      {
       "output_type": "stream",
       "stream": "stdout",
       "text": [
        "\n",
        "(31, 22)"
       ]
      },
      {
       "output_type": "stream",
       "stream": "stdout",
       "text": [
        "\n",
        "(31, 22)"
       ]
      },
      {
       "output_type": "stream",
       "stream": "stdout",
       "text": [
        "\n",
        "(28, 22)"
       ]
      },
      {
       "output_type": "stream",
       "stream": "stdout",
       "text": [
        "\n",
        "(31, 22)"
       ]
      },
      {
       "output_type": "stream",
       "stream": "stdout",
       "text": [
        "\n"
       ]
      }
     ],
     "prompt_number": 227
    },
    {
     "cell_type": "code",
     "collapsed": false,
     "input": [
      "if sys.byteorder=='little':\n",
      "    Tmean1save.byteswap(True)\n",
      "    Tmean2save.byteswap(True)\n",
      "    Tmean3save.byteswap(True)\n",
      "    Tgradsave.byteswap(True)\n",
      "    Umean1save.byteswap(True)\n",
      "    Umean2save.byteswap(True)\n",
      "    ZAsave.byteswap(True)\n",
      "    Zphasesave.byteswap(True)\n",
      "#Create the binary files of the input files\n",
      "filename=open(r'./Tmean1.bin','wb')\n",
      "Tmean1save.ravel().tofile(filename)\n",
      "filename.close()\n",
      "filename=open(r'./Tmean2.bin','wb')\n",
      "Tmean2save.ravel().tofile(filename)\n",
      "filename.close()\n",
      "filename=open(r'./Tmean3.bin','wb')\n",
      "Tmean3save.ravel().tofile(filename)\n",
      "filename.close()\n",
      "filename=open(r'./Tgrad.bin','wb')\n",
      "Tgradsave.ravel().tofile(filename)\n",
      "filename.close()\n",
      "filename=open(r'./Umean1.bin','wb')\n",
      "Umean1save.ravel().tofile(filename)\n",
      "filename.close()\n",
      "filename=open(r'./Umean2.bin','wb')\n",
      "Umean2save.ravel().tofile(filename)\n",
      "filename.close()\n",
      "filename=open(r'./ZA.bin','wb')\n",
      "ZAsave.ravel().tofile(filename)\n",
      "filename.close()\n",
      "filename=open(r'./Zphase.bin','wb')\n",
      "Zphasesave.ravel().tofile(filename)\n",
      "filename.close()"
     ],
     "language": "python",
     "metadata": {},
     "outputs": [],
     "prompt_number": 228
    },
    {
     "cell_type": "code",
     "collapsed": false,
     "input": [
      "nt = 365*49+1\n",
      "levels = 18\n",
      "file1=open('./data/Tmean1.bin','rb')\n",
      "Tmean1read=np.fromfile(file1)\n",
      "if sys.byteorder=='little':\n",
      "    Tmean1read.byteswap(True)\n",
      "Tmean1read=Tmean1read.reshape(nt,levels)\n",
      "\n",
      "file1=open('./data/Tmean2.bin','rb')\n",
      "Tmean2read=np.fromfile(file1)\n",
      "if sys.byteorder=='little':\n",
      "    Tmean2read.byteswap(True)\n",
      "Tmean2read=Tmean2read.reshape(nt,levels)\n",
      "\n",
      "file1=open('./data/Tmean3.bin','rb')\n",
      "Tmean3read=np.fromfile(file1)\n",
      "if sys.byteorder=='little':\n",
      "    Tmean3read.byteswap(True)\n",
      "Tmean3read=Tmean3read.reshape(nt,levels)\n",
      "\n",
      "file1=open('./data/Tgrad.bin','rb')\n",
      "Tgradread=np.fromfile(file1)\n",
      "if sys.byteorder=='little':\n",
      "    Tgradread.byteswap(True)\n",
      "Tgradread=Tgradread.reshape(nt,levels)\n",
      "\n",
      "file1=open('./data/Umean1.bin','rb')\n",
      "Umean1read=np.fromfile(file1)\n",
      "if sys.byteorder=='little':\n",
      "    Umean1read.byteswap(True)\n",
      "Umean1read=Umean1read.reshape(nt,levels)\n",
      "\n",
      "file1=open('./data/Umean2.bin','rb')\n",
      "Umean2read=np.fromfile(file1)\n",
      "if sys.byteorder=='little':\n",
      "    Umean2read.byteswap(True)\n",
      "Umean2read=Umean2read.reshape(nt,levels)\n",
      "\n",
      "file1=open('./data/ZA.bin','rb')\n",
      "ZAread=np.fromfile(file1)\n",
      "if sys.byteorder=='little':\n",
      "    ZAread.byteswap(True)\n",
      "ZAread=ZAread.reshape(nt,levels,3)\n",
      "\n",
      "file1=open('./data/Zphase.bin','rb')\n",
      "Zphaseread=np.fromfile(file1)\n",
      "if sys.byteorder=='little':\n",
      "    Zphaseread.byteswap(True)\n",
      "Zphaseread=Zphaseread.reshape(nt,levels,2)"
     ],
     "language": "python",
     "metadata": {},
     "outputs": [],
     "prompt_number": 2
    },
    {
     "cell_type": "code",
     "collapsed": false,
     "input": [
      "# Calculating Data Metric\n",
      "Tmean1read = Tmean1read[1:,:]-np.mean(Tmean1read[1:,:],axis=0)\n",
      "Tmean2read = Tmean2read[1:,:]-np.mean(Tmean2read[1:,:],axis=0)\n",
      "Tmean3read = Tmean3read[1:,:]-np.mean(Tmean3read[1:,:],axis=0)\n",
      "Tmean1tend = Tmean1read[7:,:]-Tmean1read[0:nt-8,:]\n",
      "Tmean2tend = Tmean2read[7:,:]-Tmean2read[0:nt-8,:]\n",
      "Tmean3tend = Tmean3read[7:,:]-Tmean3read[0:nt-8,:]\n",
      "Tgradread = Tgradread[1:,:]\n",
      "Tgradtend = Tgradread[7:,:]-Tgradread[0:nt-8,:]\n",
      "Umean1read = Umean1read[1:,:]\n",
      "Umean2read = Umean2read[1:,:]\n",
      "Umean1tend = Umean1read[7:,:]-Umean1read[0:nt-8,:]\n",
      "Umean2tend = Umean2read[7:,:]-Umean2read[0:nt-8,:]\n",
      "ZAread = ZAread[1:,:]\n",
      "ZA1read = ZAread[:,:,1]/ZAread[:,:,0]\n",
      "ZA2read = ZAread[:,:,2]/ZAread[:,:,0]\n",
      "Zphase1read = Zphaseread[1:,:,0]\n",
      "Zphase2read = Zphaseread[1:,:,1]"
     ],
     "language": "python",
     "metadata": {},
     "outputs": [],
     "prompt_number": 3
    },
    {
     "cell_type": "code",
     "collapsed": false,
     "input": [
      "X = np.concatenate((Tmean1read[7:,:],Tmean2read[7:,:],Tmean3read[7:,:],Tmean1tend,Tmean2tend,Tmean3tend,\n",
      "                    Tgradread[7:,:],Tgradtend,Umean1read[7:,:],Umean2read[7:,:],Umean1tend,Umean2tend,ZA1read[7:,:],ZA2read[7:,:]),axis=1)"
     ],
     "language": "python",
     "metadata": {},
     "outputs": [],
     "prompt_number": 4
    },
    {
     "cell_type": "code",
     "collapsed": false,
     "input": [
      "# Save data metric\n",
      "if sys.byteorder=='little':\n",
      "    X.byteswap(True)\n",
      "#Create the binary files of the input files\n",
      "filename=open(r'./SSWdata.bin','wb')\n",
      "X.ravel().tofile(filename)\n",
      "filename.close()"
     ],
     "language": "python",
     "metadata": {},
     "outputs": []
    }
   ],
   "metadata": {}
  }
 ]
}