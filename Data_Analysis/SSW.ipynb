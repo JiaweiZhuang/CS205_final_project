{
 "metadata": {
  "name": ""
 },
 "nbformat": 3,
 "nbformat_minor": 0,
 "worksheets": [
  {
   "cells": [
    {
     "cell_type": "heading",
     "level": 1,
     "metadata": {},
     "source": [
      "Introduction "
     ]
    },
    {
     "cell_type": "markdown",
     "metadata": {},
     "source": [
      "In this part, we would like to use k-means cluster technique to examine a type of climate events, called sudden stratospheric warmings (SSWs). The climatological zonal winds in the stratosphere are generally westerly and their strength increases with height. These winds form the \"polar night jet\" vortex, and can be very persistent during winters, as shown in fig(a). However, at times this zonal-mean configuration is dramatically disturbed, as shown in fig(b) and fig(c), with latitudinal temperature gradient and zonal-mean winds at the pole being reversed. "
     ]
    },
    {
     "cell_type": "markdown",
     "metadata": {},
     "source": [
      "<img src=\"files/SSW.png\">"
     ]
    },
    {
     "cell_type": "heading",
     "level": 1,
     "metadata": {},
     "source": [
      "Why k-means clustering necessay in this context?"
     ]
    },
    {
     "cell_type": "markdown",
     "metadata": {},
     "source": [
      "In the past, these pheonomena have been arbitrarily defined using a variety of different criteria involving winds, temperatures, and measures of the vortex shape. Using thresholds can be a powerful and useful way to understand variability, but also a subjective way in terms of the determination of the thresholds. k-means clustering is a method of identifying different states ina completely objective manner with no preconceived notion of the groups and no preselection on the basis of known influencing factors. \n",
      "\n",
      "k-means clustering technique is more useful than hierarchical clustering for this problem, because k-means clustering easily allows for uneven groups, whereas hierachical clusetering tends to determine groups of similar sizes. \n",
      "\n",
      "In addition, this type of problem usually involves a large dataset with very high dimensions, e.g. more than 17,000 data points with 252 dimensions in this example, therefore a simple clustering technique such as k-means is very useful. "
     ]
    },
    {
     "cell_type": "code",
     "collapsed": false,
     "input": [
      "%matplotlib inline\n",
      "from netCDF4 import Dataset\n",
      "from sklearn import preprocessing\n",
      "import numpy as np\n",
      "import math\n",
      "import scipy\n",
      "import sys\n",
      "from sklearn.cluster import KMeans\n",
      "from sklearn.metrics import silhouette_samples, silhouette_score\n",
      "import matplotlib.cm as cm\n",
      "import matplotlib.pyplot as plt"
     ],
     "language": "python",
     "metadata": {},
     "outputs": [],
     "prompt_number": 1
    },
    {
     "cell_type": "code",
     "collapsed": false,
     "input": [
      "nt = 365*49+1\n",
      "levels = 18\n",
      "file1=open('./data/Tmean1.bin','rb')\n",
      "Tmean1read=np.fromfile(file1)\n",
      "if sys.byteorder=='little':\n",
      "    Tmean1read.byteswap(True)\n",
      "Tmean1read=Tmean1read.reshape(nt,levels)\n",
      "\n",
      "file1=open('./data/Tmean2.bin','rb')\n",
      "Tmean2read=np.fromfile(file1)\n",
      "if sys.byteorder=='little':\n",
      "    Tmean2read.byteswap(True)\n",
      "Tmean2read=Tmean2read.reshape(nt,levels)\n",
      "\n",
      "file1=open('./data/Tmean3.bin','rb')\n",
      "Tmean3read=np.fromfile(file1)\n",
      "if sys.byteorder=='little':\n",
      "    Tmean3read.byteswap(True)\n",
      "Tmean3read=Tmean3read.reshape(nt,levels)\n",
      "\n",
      "file1=open('./data/Tgrad.bin','rb')\n",
      "Tgradread=np.fromfile(file1)\n",
      "if sys.byteorder=='little':\n",
      "    Tgradread.byteswap(True)\n",
      "Tgradread=Tgradread.reshape(nt,levels)\n",
      "\n",
      "file1=open('./data/Umean1.bin','rb')\n",
      "Umean1read=np.fromfile(file1)\n",
      "if sys.byteorder=='little':\n",
      "    Umean1read.byteswap(True)\n",
      "Umean1read=Umean1read.reshape(nt,levels)\n",
      "\n",
      "file1=open('./data/Umean2.bin','rb')\n",
      "Umean2read=np.fromfile(file1)\n",
      "if sys.byteorder=='little':\n",
      "    Umean2read.byteswap(True)\n",
      "Umean2read=Umean2read.reshape(nt,levels)\n",
      "\n",
      "file1=open('./data/ZA.bin','rb')\n",
      "ZAread=np.fromfile(file1)\n",
      "if sys.byteorder=='little':\n",
      "    ZAread.byteswap(True)\n",
      "ZAread=ZAread.reshape(nt,levels,3)\n",
      "\n",
      "file1=open('./data/Zphase.bin','rb')\n",
      "Zphaseread=np.fromfile(file1)\n",
      "if sys.byteorder=='little':\n",
      "    Zphaseread.byteswap(True)\n",
      "Zphaseread=Zphaseread.reshape(nt,levels,2)"
     ],
     "language": "python",
     "metadata": {},
     "outputs": [],
     "prompt_number": 2
    },
    {
     "cell_type": "code",
     "collapsed": false,
     "input": [
      "Zphaseread[1,:,:]"
     ],
     "language": "python",
     "metadata": {},
     "outputs": [
      {
       "metadata": {},
       "output_type": "pyout",
       "prompt_number": 3,
       "text": [
        "array([[ 1.55340265, -3.04492434],\n",
        "       [ 1.48309198, -2.98779342],\n",
        "       [ 1.40642098, -2.89973043],\n",
        "       [ 1.33538722, -2.7848926 ],\n",
        "       [ 1.27021933, -2.62141333],\n",
        "       [ 1.21074696, -2.42716196],\n",
        "       [ 1.15481117, -2.24969012],\n",
        "       [ 1.09902347, -2.12028387],\n",
        "       [ 1.03764805, -2.04711453],\n",
        "       [ 0.96709349, -2.00603839],\n",
        "       [ 0.88909323, -1.9782302 ],\n",
        "       [ 0.8081333 , -1.97121121],\n",
        "       [ 0.72126433, -1.99555884],\n",
        "       [ 0.62250201, -2.06176635],\n",
        "       [ 0.51124863, -2.16401184],\n",
        "       [ 0.4046435 , -2.30059368],\n",
        "       [ 0.36702144, -2.54254646],\n",
        "       [ 0.36193734, -2.65623822]])"
       ]
      }
     ],
     "prompt_number": 3
    },
    {
     "cell_type": "code",
     "collapsed": false,
     "input": [
      "# Calculating Data Metric\n",
      "Tmean1read = Tmean1read[1:,:]-np.mean(Tmean1read[1:,:],axis=0)\n",
      "Tmean2read = Tmean2read[1:,:]-np.mean(Tmean2read[1:,:],axis=0)\n",
      "Tmean3read = Tmean3read[1:,:]-np.mean(Tmean3read[1:,:],axis=0)\n",
      "Tmean1tend = Tmean1read[7:,:]-Tmean1read[0:nt-8,:]\n",
      "Tmean2tend = Tmean2read[7:,:]-Tmean2read[0:nt-8,:]\n",
      "Tmean3tend = Tmean3read[7:,:]-Tmean3read[0:nt-8,:]\n",
      "Tgradread = Tgradread[1:,:]\n",
      "Tgradtend = Tgradread[7:,:]-Tgradread[0:nt-8,:]\n",
      "Umean1read = Umean1read[1:,:]\n",
      "Umean2read = Umean2read[1:,:]\n",
      "Umean1tend = Umean1read[7:,:]-Umean1read[0:nt-8,:]\n",
      "Umean2tend = Umean2read[7:,:]-Umean2read[0:nt-8,:]\n",
      "ZAread = ZAread[1:,:]\n",
      "ZA1read = ZAread[:,:,1]/ZAread[:,:,0]\n",
      "ZA2read = ZAread[:,:,2]/ZAread[:,:,0]\n",
      "Zphase1read = Zphaseread[1:,:,0]\n",
      "Zphase2read = Zphaseread[1:,:,1]"
     ],
     "language": "python",
     "metadata": {},
     "outputs": [],
     "prompt_number": 4
    },
    {
     "cell_type": "code",
     "collapsed": false,
     "input": [
      "X = np.concatenate((Tmean1read[7:,:],Tmean2read[7:,:],Tmean3read[7:,:],Tmean1tend,Tmean2tend,Tmean3tend,\n",
      "                    Tgradread[7:,:],Tgradtend,Umean1read[7:,:],Umean2read[7:,:],Umean1tend,Umean2tend,ZA1read[7:,:],ZA2read[7:,:]),axis=1)"
     ],
     "language": "python",
     "metadata": {},
     "outputs": [],
     "prompt_number": 5
    },
    {
     "cell_type": "code",
     "collapsed": false,
     "input": [
      "# Normalizing (not needed in this case)\n",
      "Tmean1_scaled = preprocessing.scale(Tmean1read[7:,:])\n",
      "Tmean2_scaled = preprocessing.scale(Tmean2read[7:,:])\n",
      "Tmean3_scaled = preprocessing.scale(Tmean3read[7:,:])\n",
      "Tmean1tend_scaled = preprocessing.scale(Tmean1tend)\n",
      "Tmean2tend_scaled = preprocessing.scale(Tmean2tend)\n",
      "Tmean3tend_scaled = preprocessing.scale(Tmean3tend)\n",
      "Tgrad_scaled = preprocessing.scale(Tgradread[7:,:])\n",
      "Tgradtend_scaled = preprocessing.scale(Tgradtend)\n",
      "Umean1_scaled = preprocessing.scale(Umean1read[7:,:])\n",
      "Umean2_scaled = preprocessing.scale(Umean2read[7:,:])\n",
      "Umean1tend_scaled = preprocessing.scale(Umean1tend)\n",
      "Umean2tend_scaled = preprocessing.scale(Umean2tend)\n",
      "ZA1_scaled = preprocessing.scale(ZA1read[7:,:])\n",
      "ZA2_scaled = preprocessing.scale(ZA2read[7:,:])\n",
      "Zphase1_scaled = preprocessing.scale(Zphase1read[7:,:])\n",
      "Zphase2_scaled = preprocessing.scale(Zphase2read[7:,:])"
     ],
     "language": "python",
     "metadata": {},
     "outputs": []
    },
    {
     "cell_type": "code",
     "collapsed": false,
     "input": [
      "n_clusters = 2;\n",
      "kmeans = KMeans(n_clusters=n_clusters, random_state=0).fit(X)\n",
      "cluster_labels=kmeans.labels_\n",
      "silhouette_values = silhouette_samples(X,cluster_labels)"
     ],
     "language": "python",
     "metadata": {},
     "outputs": [],
     "prompt_number": 6
    },
    {
     "cell_type": "code",
     "collapsed": false,
     "input": [
      "y_lower = 10\n",
      "ax1 = plt.subplot(111)\n",
      "silhouette_avg = silhouette_score(X, cluster_labels,metric='correlation')\n",
      "for i in range(n_clusters):\n",
      "    # Aggregate the silhouette scores for samples belonging to\n",
      "    # cluster i, and sort them\n",
      "    ith_cluster_silhouette_values = \\\n",
      "    silhouette_values[cluster_labels == i]\n",
      "\n",
      "    ith_cluster_silhouette_values.sort()\n",
      "\n",
      "    size_cluster_i = ith_cluster_silhouette_values.shape[0]\n",
      "    y_upper = y_lower + size_cluster_i\n",
      "\n",
      "    color = cm.spectral(float(i) / n_clusters)\n",
      "    ax1.fill_betweenx(np.arange(y_lower, y_upper),\n",
      "                    0, ith_cluster_silhouette_values,\n",
      "                    facecolor=color, edgecolor=color, alpha=0.7)\n",
      "\n",
      "    # Label the silhouette plots with their cluster numbers at the middle\n",
      "    ax1.text(-0.05, y_lower + 0.5 * size_cluster_i, str(i))\n",
      "\n",
      "    # Compute the new y_lower for next plot\n",
      "    y_lower = y_upper + 10  # 10 for the 0 samples\n",
      "\n",
      "ax1.set_title(\"The silhouette plot for the various clusters.\")\n",
      "ax1.set_xlabel(\"The silhouette coefficient values\")\n",
      "ax1.set_ylabel(\"Cluster label\")\n",
      "\n",
      "    # The vertical line for average silhouette score of all the values\n",
      "ax1.axvline(x=silhouette_avg, color=\"red\", linestyle=\"--\")\n",
      "\n",
      "ax1.set_yticks([])  # Clear the yaxis labels / ticks\n",
      "ax1.set_xticks([-0.1, 0, 0.2, 0.4, 0.6, 0.8, 1])\n",
      "print(\"For n_clusters =\", n_clusters,\n",
      "          \"The average silhouette_score is :\", silhouette_avg)"
     ],
     "language": "python",
     "metadata": {},
     "outputs": [
      {
       "output_type": "stream",
       "stream": "stdout",
       "text": [
        "('For n_clusters =', 2, 'The average silhouette_score is :', 0.48997383701476621)\n"
       ]
      },
      {
       "metadata": {},
       "output_type": "display_data",
       "png": "[encoded data removed]",
       "text": [
        "<matplotlib.figure.Figure at 0x2b36d30b2a50>"
       ]
      }
     ],
     "prompt_number": 7
    },
    {
     "cell_type": "code",
     "collapsed": false,
     "input": [
      "print cluster_labels.shape\n",
      "idx1 = np.where(cluster_labels==0)\n",
      "idx1 = idx1[0]\n",
      "idx2 = np.where(cluster_labels==1)\n",
      "idx2 = idx2[0]\n",
      "Tgrad_cluster1 = Tgradread[idx1+7,:]\n",
      "print np.mean(Tgrad_cluster1,axis=0)\n",
      "Tgrad_cluster2 = Tgradread[idx2+7,:]\n",
      "print np.mean(Tgrad_cluster2,axis=0)\n",
      "Tmean3_cluster1 = Tmean3read[idx1+7,:]\n",
      "print np.mean(Tmean3_cluster1,axis=0)\n",
      "Tmean3_cluster2 = Tmean3read[idx2+7,:]\n",
      "print np.mean(Tmean3_cluster2,axis=0)\n",
      "plt.plot(np.mean(Tmean3_cluster1,axis=0)-np.mean(Tmean3_cluster2,axis=0))"
     ],
     "language": "python",
     "metadata": {},
     "outputs": [
      {
       "output_type": "stream",
       "stream": "stdout",
       "text": [
        "(17878,)\n",
        "[ -5.40110254  -8.41126446  -9.90812778 -11.79789097 -13.72566023\n",
        " -15.24854885 -15.85425433 -15.79955479 -15.24847954 -14.37108    -13.12852003\n",
        " -11.82580666 -10.27642468  -8.55120056  -6.87619292  -4.80948926\n",
        "  -4.27682217  -1.7451549 ]\n",
        "[ -9.28408249 -18.07408918 -22.86641078 -26.76404323 -29.38275485\n",
        " -30.5686841  -30.22792982 -29.14371405 -27.62752015 -25.75217172\n",
        " -23.56681307 -21.40552673 -18.91079909 -16.29233499 -13.70294191\n",
        " -10.64307914  -9.86946868  -6.47749249]\n",
        "[  1.64069918   6.38625962   9.29369508  10.75367198  11.11140159\n",
        "  10.7134733    9.94116621   9.13682911   8.39817667   7.66983188\n",
        "   7.02626956   6.44413586   5.84793442   5.26128116   4.6869055\n",
        "   4.02814233   3.80928013   3.31853316]\n",
        "[-0.68168851 -2.67290447 -3.89462676 -4.50721417 -4.65635784 -4.48891417\n",
        " -4.16503355 -3.82782889 -3.51813896 -3.21281189 -2.94308053 -2.69913454\n",
        " -2.44933891 -2.20355173 -1.96299937 -1.68713468 -1.59543317 -1.38986257]\n"
       ]
      },
      {
       "metadata": {},
       "output_type": "pyout",
       "prompt_number": 9,
       "text": [
        "[<matplotlib.lines.Line2D at 0x2b36dd7957d0>]"
       ]
      },
      {
       "metadata": {},
       "output_type": "display_data",
       "png": "[encoded data removed]",
       "text": [
        "<matplotlib.figure.Figure at 0x2b36dd6e0250>"
       ]
      }
     ],
     "prompt_number": 9
    },
    {
     "cell_type": "code",
     "collapsed": false,
     "input": [
      "# Save data metric\n",
      "if sys.byteorder=='little':\n",
      "    X.byteswap(True)\n",
      "#Create the binary files of the input files\n",
      "filename=open(r'./SSWdata.bin','wb')\n",
      "X.ravel().tofile(filename)\n",
      "filename.close()"
     ],
     "language": "python",
     "metadata": {},
     "outputs": [],
     "prompt_number": 10
    },
    {
     "cell_type": "code",
     "collapsed": false,
     "input": [
      "# Read data metric\n",
      "ndata = 17878\n",
      "nfeatures = 252\n",
      "file1=open('./SSWdata.bin','rb')\n",
      "X1=np.fromfile(file1)\n",
      "if sys.byteorder=='little':\n",
      "    X1.byteswap(True)\n",
      "X1=X1.reshape(ndata,nfeatures)"
     ],
     "language": "python",
     "metadata": {},
     "outputs": [],
     "prompt_number": 15
    },
    {
     "cell_type": "code",
     "collapsed": false,
     "input": [
      "if sys.byteorder=='little':\n",
      "    cluster_labels.byteswap(True)\n",
      "#Create the binary files of the input files\n",
      "filename=open(r'./Label_py.bin','wb')\n",
      "cluster_labels.ravel().tofile(filename)\n",
      "filename.close()"
     ],
     "language": "python",
     "metadata": {},
     "outputs": [],
     "prompt_number": 11
    },
    {
     "cell_type": "code",
     "collapsed": false,
     "input": [
      "file1=open('./Label_matlab.bin','rb')\n",
      "Y_py=np.fromfile(file1,np.int32)"
     ],
     "language": "python",
     "metadata": {},
     "outputs": [
      {
       "metadata": {},
       "output_type": "pyout",
       "prompt_number": 21,
       "text": [
        "array([1, 1, 1, 1, 1, 1, 1, 1, 1, 1, 1, 1, 1, 1, 1, 1, 1, 1, 1, 1, 1, 1, 1,\n",
        "       1, 1, 1, 1, 1, 1, 1, 1, 1, 1, 1, 1, 1, 1, 1, 1, 1, 2, 2, 2, 2, 2, 2,\n",
        "       2, 1, 1, 1, 2, 1, 2, 2, 1, 1, 1, 1, 1, 1, 1, 1, 1, 1, 1, 1, 2, 1, 1,\n",
        "       1, 1, 1, 1, 1, 1, 1, 1, 1, 2, 2, 2, 2, 2, 2, 2, 2, 2, 2, 2, 2, 2, 2,\n",
        "       2, 2, 2, 1, 1, 1, 1, 1], dtype=int32)"
       ]
      }
     ],
     "prompt_number": 21
    },
    {
     "cell_type": "code",
     "collapsed": false,
     "input": [
      "file1=open('./Label_py.bin','rb')\n",
      "Y_py=np.fromfile(file1,np.int32)\n",
      "if sys.byteorder=='little':\n",
      "    Y_py.byteswap(True)"
     ],
     "language": "python",
     "metadata": {},
     "outputs": [],
     "prompt_number": 12
    }
   ],
   "metadata": {}
  }
 ]
}