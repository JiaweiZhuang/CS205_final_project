{
 "metadata": {
  "name": ""
 },
 "nbformat": 3,
 "nbformat_minor": 0,
 "worksheets": [
  {
   "cells": [
    {
     "cell_type": "heading",
     "level": 1,
     "metadata": {},
     "source": [
      "Introduction "
     ]
    },
    {
     "cell_type": "markdown",
     "metadata": {},
     "source": [
      "In this part, we would like to use k-means cluster technique to examine a type of climate events, called sudden stratospheric warmings (SSWs). The climatological zonal winds in the stratosphere are generally westerly and their strength increases with height. These winds form the \"polar night jet\" vortex, and can be very persistent during winters, as shown in fig(a). However, at times this zonal-mean configuration is dramatically disturbed, as shown in fig(b) and fig(c), with latitudinal temperature gradient and zonal-mean winds at the pole being reversed. "
     ]
    },
    {
     "cell_type": "markdown",
     "metadata": {},
     "source": [
      "<img src=\"files/SSW.png\">"
     ]
    },
    {
     "cell_type": "heading",
     "level": 1,
     "metadata": {},
     "source": [
      "Why k-means clustering necessay in this context?"
     ]
    },
    {
     "cell_type": "markdown",
     "metadata": {},
     "source": [
      "In the past, these pheonomena have been arbitrarily defined using a variety of different criteria involving winds, temperatures, and measures of the vortex shape. Using thresholds can be a powerful and useful way to understand variability, but also a subjective way in terms of the determination of the thresholds. k-means clustering is a method of identifying different states ina completely objective manner with no preconceived notion of the groups and no preselection on the basis of known influencing factors. \n",
      "\n",
      "k-means clustering technique is more useful than hierarchical clustering for this problem, because k-means clustering easily allows for uneven groups, whereas hierachical clusetering tends to determine groups of similar sizes. \n",
      "\n",
      "In addition, this type of problem usually involves a large dataset with very high dimensions, e.g. more than 17,000 data points with 252 dimensions in this example, therefore a simple clustering technique such as k-means is very useful. "
     ]
    },
    {
     "cell_type": "code",
     "collapsed": false,
     "input": [
      "%matplotlib inline\n",
      "from netCDF4 import Dataset\n",
      "from sklearn import preprocessing\n",
      "import numpy as np\n",
      "import math\n",
      "import scipy\n",
      "import sys\n",
      "from sklearn.cluster import KMeans\n",
      "from sklearn.metrics import silhouette_samples, silhouette_score\n",
      "import matplotlib.cm as cm\n",
      "import matplotlib.pyplot as plt\n",
      "import seaborn as sns"
     ],
     "language": "python",
     "metadata": {},
     "outputs": [],
     "prompt_number": 15
    },
    {
     "cell_type": "code",
     "collapsed": false,
     "input": [
      "# Read data metric\n",
      "ndata = 17878\n",
      "nfeatures = 252\n",
      "file1=open('./SSWdata.bin','rb')\n",
      "X=np.fromfile(file1)\n",
      "if sys.byteorder=='little':\n",
      "    X.byteswap(True)\n",
      "X=X.reshape(ndata,nfeatures)"
     ],
     "language": "python",
     "metadata": {},
     "outputs": [],
     "prompt_number": 6
    },
    {
     "cell_type": "code",
     "collapsed": false,
     "input": [
      "# Matlab Kmeans clustered label (correlation distance used)\n",
      "file1=open('./Label_matlab.bin','rb')\n",
      "cluster_labels=np.fromfile(file1,np.int32)"
     ],
     "language": "python",
     "metadata": {},
     "outputs": [],
     "prompt_number": 3
    },
    {
     "cell_type": "code",
     "collapsed": false,
     "input": [
      "n_clusters = 2;\n",
      "kmeans = KMeans(n_clusters=n_clusters, random_state=0).fit(X)\n",
      "cluster_labels=kmeans.labels_\n",
      "silhouette_values = silhouette_samples(X,cluster_labels)"
     ],
     "language": "python",
     "metadata": {},
     "outputs": [],
     "prompt_number": 6
    },
    {
     "cell_type": "code",
     "collapsed": false,
     "input": [
      "y_lower = 10\n",
      "ax1 = plt.subplot(111)\n",
      "silhouette_avg = silhouette_score(X, cluster_labels,metric='correlation')\n",
      "for i in range(n_clusters):\n",
      "    # Aggregate the silhouette scores for samples belonging to\n",
      "    # cluster i, and sort them\n",
      "    ith_cluster_silhouette_values = \\\n",
      "    silhouette_values[cluster_labels == i]\n",
      "\n",
      "    ith_cluster_silhouette_values.sort()\n",
      "\n",
      "    size_cluster_i = ith_cluster_silhouette_values.shape[0]\n",
      "    y_upper = y_lower + size_cluster_i\n",
      "\n",
      "    color = cm.spectral(float(i) / n_clusters)\n",
      "    ax1.fill_betweenx(np.arange(y_lower, y_upper),\n",
      "                    0, ith_cluster_silhouette_values,\n",
      "                    facecolor=color, edgecolor=color, alpha=0.7)\n",
      "\n",
      "    # Label the silhouette plots with their cluster numbers at the middle\n",
      "    ax1.text(-0.05, y_lower + 0.5 * size_cluster_i, str(i))\n",
      "\n",
      "    # Compute the new y_lower for next plot\n",
      "    y_lower = y_upper + 10  # 10 for the 0 samples\n",
      "\n",
      "ax1.set_title(\"The silhouette plot for the various clusters.\")\n",
      "ax1.set_xlabel(\"The silhouette coefficient values\")\n",
      "ax1.set_ylabel(\"Cluster label\")\n",
      "\n",
      "    # The vertical line for average silhouette score of all the values\n",
      "ax1.axvline(x=silhouette_avg, color=\"red\", linestyle=\"--\")\n",
      "\n",
      "ax1.set_yticks([])  # Clear the yaxis labels / ticks\n",
      "ax1.set_xticks([-0.1, 0, 0.2, 0.4, 0.6, 0.8, 1])\n",
      "print(\"For n_clusters =\", n_clusters,\n",
      "          \"The average silhouette_score is :\", silhouette_avg)"
     ],
     "language": "python",
     "metadata": {},
     "outputs": [
      {
       "output_type": "stream",
       "stream": "stdout",
       "text": [
        "('For n_clusters =', 2, 'The average silhouette_score is :', 0.48997383701476621)\n"
       ]
      },
      {
       "metadata": {},
       "output_type": "display_data",
       "png": "[encoded data removed]",
       "text": [
        "<matplotlib.figure.Figure at 0x2b36d30b2a50>"
       ]
      }
     ],
     "prompt_number": 7
    },
    {
     "cell_type": "code",
     "collapsed": false,
     "input": [
      "print cluster_labels.shape\n",
      "idx1 = np.where(cluster_labels==1)\n",
      "idx1 = idx1[0]\n",
      "idx2 = np.where(cluster_labels==2)\n",
      "idx2 = idx2[0]\n",
      "Tgrad_cluster1 = X[idx1,108:126]\n",
      "print np.mean(Tgrad_cluster1,axis=0)\n",
      "Tgrad_cluster2 = X[idx2,108:126]\n",
      "print np.mean(Tgrad_cluster2,axis=0)\n",
      "Tmean3_cluster1 = X[idx1,36:54]\n",
      "print np.mean(Tmean3_cluster1,axis=0)\n",
      "Tmean3_cluster2 = X[idx2,36:54]\n",
      "print np.mean(Tmean3_cluster2,axis=0)\n",
      "plt.plot(np.mean(Tmean3_cluster2,axis=0))\n",
      "plt.plot(np.mean(Tmean3_cluster1,axis=0))\n",
      "plt.xlabel('Temperature Anormaly (K)',)\n",
      "plt.ylabel('Height (hPa)')"
     ],
     "language": "python",
     "metadata": {},
     "outputs": [
      {
       "output_type": "stream",
       "stream": "stdout",
       "text": [
        "(17878,)\n",
        "[ -8.8842663  -16.87571126 -21.1804238  -24.78850661 -27.33386743\n",
        " -28.61000904 -28.44028795 -27.52992047 -26.16459282 -24.43345159\n",
        " -22.37190772 -20.31436659 -17.92500669 -15.39765569 -12.90524027\n",
        "  -9.94605008  -9.18378886  -5.90276531]\n",
        "[ -4.38940924  -6.91438041  -8.29666109 -10.07876568 -11.83758661\n",
        " -13.16971237 -13.65282743 -13.52596248 -12.96798575 -12.14261152\n",
        " -11.01153434  -9.85554432  -8.51218263  -7.02400597  -5.57305422\n",
        "  -3.7730884   -3.37073275  -0.95097468]\n",
        "[-0.5655531  -1.68537895 -2.29904467 -2.59242068 -2.67177432 -2.60919354\n",
        " -2.46252488 -2.29747707 -2.13438985 -1.96466672 -1.805047   -1.65329608\n",
        " -1.4927495  -1.3300498  -1.17379939 -0.99587729 -0.9221216  -0.80578572]\n",
        "[  2.8629013    8.47194352  11.53755001  13.00663717  13.40812658\n",
        "  13.09695268  12.36187253  11.53415012  10.71632706   9.8650269\n",
        "   9.06415698   8.30260016   7.49671456   6.67999739   5.89526172\n",
        "   5.00155217   4.63136948   4.04719424]\n"
       ]
      },
      {
       "metadata": {},
       "output_type": "pyout",
       "prompt_number": 16,
       "text": [
        "<matplotlib.text.Text at 0x2b93e18c6a90>"
       ]
      },
      {
       "metadata": {},
       "output_type": "display_data",
       "png": "[encoded data removed]",
       "text": [
        "<matplotlib.figure.Figure at 0x2b93e18a2410>"
       ]
      }
     ],
     "prompt_number": 16
    },
    {
     "cell_type": "code",
     "collapsed": false,
     "input": [
      "if sys.byteorder=='little':\n",
      "    cluster_labels.byteswap(True)\n",
      "#Create the binary files of the input files\n",
      "filename=open(r'./Label_py.bin','wb')\n",
      "cluster_labels.ravel().tofile(filename)\n",
      "filename.close()"
     ],
     "language": "python",
     "metadata": {},
     "outputs": [],
     "prompt_number": 11
    },
    {
     "cell_type": "code",
     "collapsed": false,
     "input": [
      "file1=open('./Label_matlab.bin','rb')\n",
      "Y_py=np.fromfile(file1,np.int32)"
     ],
     "language": "python",
     "metadata": {},
     "outputs": [
      {
       "metadata": {},
       "output_type": "pyout",
       "prompt_number": 21,
       "text": [
        "array([1, 1, 1, 1, 1, 1, 1, 1, 1, 1, 1, 1, 1, 1, 1, 1, 1, 1, 1, 1, 1, 1, 1,\n",
        "       1, 1, 1, 1, 1, 1, 1, 1, 1, 1, 1, 1, 1, 1, 1, 1, 1, 2, 2, 2, 2, 2, 2,\n",
        "       2, 1, 1, 1, 2, 1, 2, 2, 1, 1, 1, 1, 1, 1, 1, 1, 1, 1, 1, 1, 2, 1, 1,\n",
        "       1, 1, 1, 1, 1, 1, 1, 1, 1, 2, 2, 2, 2, 2, 2, 2, 2, 2, 2, 2, 2, 2, 2,\n",
        "       2, 2, 2, 1, 1, 1, 1, 1], dtype=int32)"
       ]
      }
     ],
     "prompt_number": 21
    },
    {
     "cell_type": "code",
     "collapsed": false,
     "input": [
      "file1=open('./Label_py.bin','rb')\n",
      "Y_py=np.fromfile(file1,np.int32)\n",
      "if sys.byteorder=='little':\n",
      "    Y_py.byteswap(True)"
     ],
     "language": "python",
     "metadata": {},
     "outputs": [],
     "prompt_number": 12
    },
    {
     "cell_type": "code",
     "collapsed": false,
     "input": [
      "X.shape"
     ],
     "language": "python",
     "metadata": {},
     "outputs": [
      {
       "metadata": {},
       "output_type": "pyout",
       "prompt_number": 9,
       "text": [
        "(17878, 252)"
       ]
      }
     ],
     "prompt_number": 9
    },
    {
     "cell_type": "code",
     "collapsed": false,
     "input": [
      "X[0:10,0:10]"
     ],
     "language": "python",
     "metadata": {},
     "outputs": [
      {
       "metadata": {},
       "output_type": "pyout",
       "prompt_number": 10,
       "text": [
        "array([[-4.84182792, -7.58507387, -4.04250564, -2.73130617, -2.21127842,\n",
        "        -2.18496068, -2.1710161 , -2.08842861, -2.06819628, -2.05918724],\n",
        "       [-4.10468419, -7.39162935, -4.08944326, -2.77169276, -2.25731654,\n",
        "        -2.17885216, -2.236373  , -2.11965276, -1.93602494, -1.75254391],\n",
        "       [-2.96867915, -6.63136032, -3.74008503, -2.50437798, -1.96435685,\n",
        "        -1.87421991, -1.98565156, -1.93492229, -1.76465459, -1.53345362],\n",
        "       [-1.67134507, -5.70994889, -3.28873605, -2.17521715, -1.76132294,\n",
        "        -1.8484299 , -1.91488348, -2.0298199 , -1.90294567, -1.67453391],\n",
        "       [-0.59188048, -4.88589375, -2.70770825, -1.6693717 , -1.53231278,\n",
        "        -1.68601958, -2.06935574, -2.22429515, -2.23348215, -2.0469912 ],\n",
        "       [ 0.12334105, -4.19246752, -1.83733284, -0.70771284, -0.68116924,\n",
        "        -1.09222297, -1.64978179, -1.98251021, -2.19201853, -2.14826114],\n",
        "       [ 0.60479279, -3.74980126, -1.49992365, -0.17542082,  0.14712367,\n",
        "        -0.14481501, -0.69195205, -1.28638859, -1.67522453, -1.90134598],\n",
        "       [ 1.04906305, -3.18778835, -1.33476628,  0.04153108,  0.4803756 ,\n",
        "         0.45332774,  0.05515257, -0.56788595, -1.14645027, -1.53836012],\n",
        "       [ 1.39780467, -2.61158132, -1.10222123,  0.23040073,  0.51163416,\n",
        "         0.42474275, -0.01377039, -0.54063037, -1.01832617, -1.36096921],\n",
        "       [ 1.53084725, -2.62569971, -1.28516357, -0.04467555,  0.20399791,\n",
        "         0.15161104, -0.27234612, -0.71408307, -1.09341184, -1.36841734]])"
       ]
      }
     ],
     "prompt_number": 10
    },
    {
     "cell_type": "code",
     "collapsed": false,
     "input": [],
     "language": "python",
     "metadata": {},
     "outputs": []
    }
   ],
   "metadata": {}
  }
 ]
}