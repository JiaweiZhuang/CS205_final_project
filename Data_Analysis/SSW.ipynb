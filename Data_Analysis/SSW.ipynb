{
 "metadata": {
  "name": ""
 },
 "nbformat": 3,
 "nbformat_minor": 0,
 "worksheets": [
  {
   "cells": [
    {
     "cell_type": "code",
     "collapsed": false,
     "input": [
      "%matplotlib inline\n",
      "from netCDF4 import Dataset\n",
      "from sklearn import preprocessing\n",
      "import numpy as np\n",
      "import math\n",
      "import scipy\n",
      "import sys\n",
      "from sklearn.cluster import KMeans\n",
      "from sklearn.metrics import silhouette_samples, silhouette_score\n",
      "import matplotlib.cm as cm\n",
      "import matplotlib.pyplot as plt"
     ],
     "language": "python",
     "metadata": {},
     "outputs": [],
     "prompt_number": 115
    },
    {
     "cell_type": "code",
     "collapsed": false,
     "input": [
      "top_zn = 27\n",
      "bottom_zn = 49\n",
      "Z_lat = 79"
     ],
     "language": "python",
     "metadata": {},
     "outputs": [],
     "prompt_number": 224
    },
    {
     "cell_type": "code",
     "collapsed": false,
     "input": [
      "file_nm = '../data/T_2_1.nc'\n",
      "T = Dataset(file_nm,mode='r')\n",
      "print T.dimensions.keys()\n",
      "print T.variables.keys()\n",
      "lat = T.variables['lat'][:]\n",
      "lon = T.variables['lon'][:]\n",
      "lev = T.variables['lev'][:]\n",
      "T = T.variables['T'][:]\n",
      "T.shape\n",
      "print lev[top_zn:bottom_zn]\n",
      "lat = np.expand_dims(lat, axis=0)\n",
      "lat = np.expand_dims(lat, axis=0)\n",
      "lat = np.expand_dims(lat, axis=3)\n",
      "idx = np.where((lat>60)&(lat<=70))\n",
      "lat.shape"
     ],
     "language": "python",
     "metadata": {},
     "outputs": [
      {
       "output_type": "stream",
       "stream": "stdout",
       "text": [
        "[u'time', u'lev', u'lat', u'lon']\n",
        "[u'T', u'lat', u'lev', u'lon', u'time']\n",
        "[   1.244795    1.61285     2.079325    2.667425    3.404875    4.324575\n",
        "    5.4654      6.87285     8.599725   10.70705    13.26475    16.35175\n",
        "   20.05675    24.479      29.728      35.92325    43.19375    51.6775\n",
        "   61.5205     72.8745     85.65715   100.514695]"
       ]
      },
      {
       "output_type": "stream",
       "stream": "stdout",
       "text": [
        "\n"
       ]
      },
      {
       "metadata": {},
       "output_type": "pyout",
       "prompt_number": 225,
       "text": [
        "(1, 1, 96, 1)"
       ]
      }
     ],
     "prompt_number": 225
    },
    {
     "cell_type": "code",
     "collapsed": false,
     "input": [
      "Tmean1save = np.empty([1,22])\n",
      "Tmean2save = np.empty([1,22])\n",
      "Tmean3save = np.empty([1,22])\n",
      "Tgradsave = np.empty([1,22])\n",
      "Umean1save = np.empty([1,22])\n",
      "Umean2save = np.empty([1,22])\n",
      "ZAsave = np.empty([1,22,3])"
     ],
     "language": "python",
     "metadata": {},
     "outputs": [],
     "prompt_number": 226
    },
    {
     "cell_type": "code",
     "collapsed": false,
     "input": [
      "for year in range(2,31):\n",
      "    for mon in [1,2,12]:\n",
      "        \n",
      "        # Read in Temperature\n",
      "        file_nm = '../data/T_'+str(year)+'_'+str(mon)+'.nc'\n",
      "        T = Dataset(file_nm,mode='r')\n",
      "        T = T.variables['T'][:]\n",
      "        \n",
      "        # Calculte zonal averaged temperature for different latitudes and height\n",
      "        idx = np.where((lat>60)&(lat<=70))\n",
      "        Tmean1 = np.mean(np.sum(T[:,top_zn:bottom_zn,idx[2],:]*np.cos(lat[:,:,idx[2]]/180*math.pi),axis=2)/np.sum(np.cos(lat[:,:,idx[2]]/180*math.pi)),axis=2)\n",
      "        idx = np.where((lat>70)&(lat<=80))\n",
      "        Tmean2 = np.mean(np.sum(T[:,top_zn:bottom_zn,idx[2],:]*np.cos(lat[:,:,idx[2]]/180*math.pi),axis=2)/np.sum(np.cos(lat[:,:,idx[2]]/180*math.pi)),axis=2)\n",
      "        idx = np.where((lat>80)&(lat<=90))\n",
      "        Tmean3 = np.mean(np.sum(T[:,top_zn:bottom_zn,idx[2],:]*np.cos(lat[:,:,idx[2]]/180*math.pi),axis=2)/np.sum(np.cos(lat[:,:,idx[2]]/180*math.pi)),axis=2)\n",
      "        print Tmean3.shape\n",
      "        \n",
      "        # Calculate latitudinal temperature gradients\n",
      "        idx = np.where((lat>50)&(lat<=60))\n",
      "        Tmean4 = np.mean(np.sum(T[:,top_zn:bottom_zn,idx[2],:]*np.cos(lat[:,:,idx[2]]/180*math.pi),axis=2)/np.sum(np.cos(lat[:,:,idx[2]]/180*math.pi)),axis=2)\n",
      "        Tgrad = Tmean3-Tmean4\n",
      "        \n",
      "        # Calculate Zonal winds, zonally averaged for different latitudes and height\n",
      "        file_nm = '../data/U_'+str(year)+'_'+str(mon)+'.nc'\n",
      "        U = Dataset(file_nm,mode='r')\n",
      "        U = U.variables['U'][:]\n",
      "        idx = np.where((lat>60)&(lat<=70))\n",
      "        Umean1 = np.mean(np.sum(U[:,top_zn:bottom_zn,idx[2],:]*np.cos(lat[:,:,idx[2]]/180*math.pi),axis=2)/np.sum(np.cos(lat[:,:,idx[2]]/180*math.pi)),axis=2)\n",
      "        idx = np.where((lat>70)&(lat<=80))\n",
      "        Umean2 = np.mean(np.sum(U[:,top_zn:bottom_zn,idx[2],:]*np.cos(lat[:,:,idx[2]]/180*math.pi),axis=2)/np.sum(np.cos(lat[:,:,idx[2]]/180*math.pi)),axis=2)\n",
      "        \n",
      "        # Calculate Geopotential height\n",
      "        file_nm = '../data/Z3_'+str(year)+'_'+str(mon)+'.nc'\n",
      "        Z = Dataset(file_nm,mode='r')\n",
      "        Z = Z.variables['Z3'][:]\n",
      "        Z = Z[:,top_zn:bottom_zn,Z_lat,:]\n",
      "        # FFT to get wave number 1 and wave number 2 component\n",
      "        ZA = np.fft.fft(Z)\n",
      "        ZA = np.abs(ZA[:,:,0:3])\n",
      "        \n",
      "        # Store features to save arrays\n",
      "        Tmean1save = np.append(Tmean1save,Tmean1,axis=0)\n",
      "        Tmean2save = np.append(Tmean2save,Tmean2,axis=0)\n",
      "        Tmean3save = np.append(Tmean3save,Tmean3,axis=0)\n",
      "        Tgradsave = np.append(Tgradsave,Tgrad,axis=0)\n",
      "        Umean1save = np.append(Umean1save,Umean1,axis=0)\n",
      "        Umean2save = np.append(Umean2save,Umean2,axis=0)\n",
      "        ZAsave = np.append(ZAsave,ZA,axis=0)"
     ],
     "language": "python",
     "metadata": {},
     "outputs": [
      {
       "output_type": "stream",
       "stream": "stdout",
       "text": [
        "(31, 22)\n",
        "(28, 22)"
       ]
      },
      {
       "output_type": "stream",
       "stream": "stdout",
       "text": [
        "\n",
        "(31, 22)"
       ]
      },
      {
       "output_type": "stream",
       "stream": "stdout",
       "text": [
        "\n",
        "(31, 22)"
       ]
      },
      {
       "output_type": "stream",
       "stream": "stdout",
       "text": [
        "\n",
        "(28, 22)"
       ]
      },
      {
       "output_type": "stream",
       "stream": "stdout",
       "text": [
        "\n",
        "(31, 22)"
       ]
      },
      {
       "output_type": "stream",
       "stream": "stdout",
       "text": [
        "\n",
        "(31, 22)"
       ]
      },
      {
       "output_type": "stream",
       "stream": "stdout",
       "text": [
        "\n",
        "(28, 22)"
       ]
      },
      {
       "output_type": "stream",
       "stream": "stdout",
       "text": [
        "\n",
        "(31, 22)"
       ]
      },
      {
       "output_type": "stream",
       "stream": "stdout",
       "text": [
        "\n",
        "(31, 22)"
       ]
      },
      {
       "output_type": "stream",
       "stream": "stdout",
       "text": [
        "\n",
        "(28, 22)"
       ]
      },
      {
       "output_type": "stream",
       "stream": "stdout",
       "text": [
        "\n",
        "(31, 22)"
       ]
      },
      {
       "output_type": "stream",
       "stream": "stdout",
       "text": [
        "\n",
        "(31, 22)"
       ]
      },
      {
       "output_type": "stream",
       "stream": "stdout",
       "text": [
        "\n",
        "(28, 22)"
       ]
      },
      {
       "output_type": "stream",
       "stream": "stdout",
       "text": [
        "\n",
        "(31, 22)"
       ]
      },
      {
       "output_type": "stream",
       "stream": "stdout",
       "text": [
        "\n",
        "(31, 22)"
       ]
      },
      {
       "output_type": "stream",
       "stream": "stdout",
       "text": [
        "\n",
        "(28, 22)"
       ]
      },
      {
       "output_type": "stream",
       "stream": "stdout",
       "text": [
        "\n",
        "(31, 22)"
       ]
      },
      {
       "output_type": "stream",
       "stream": "stdout",
       "text": [
        "\n",
        "(31, 22)"
       ]
      },
      {
       "output_type": "stream",
       "stream": "stdout",
       "text": [
        "\n",
        "(28, 22)"
       ]
      },
      {
       "output_type": "stream",
       "stream": "stdout",
       "text": [
        "\n",
        "(31, 22)"
       ]
      },
      {
       "output_type": "stream",
       "stream": "stdout",
       "text": [
        "\n",
        "(31, 22)"
       ]
      },
      {
       "output_type": "stream",
       "stream": "stdout",
       "text": [
        "\n",
        "(28, 22)"
       ]
      },
      {
       "output_type": "stream",
       "stream": "stdout",
       "text": [
        "\n",
        "(31, 22)"
       ]
      },
      {
       "output_type": "stream",
       "stream": "stdout",
       "text": [
        "\n",
        "(31, 22)"
       ]
      },
      {
       "output_type": "stream",
       "stream": "stdout",
       "text": [
        "\n",
        "(28, 22)"
       ]
      },
      {
       "output_type": "stream",
       "stream": "stdout",
       "text": [
        "\n",
        "(31, 22)"
       ]
      },
      {
       "output_type": "stream",
       "stream": "stdout",
       "text": [
        "\n",
        "(31, 22)"
       ]
      },
      {
       "output_type": "stream",
       "stream": "stdout",
       "text": [
        "\n",
        "(28, 22)"
       ]
      },
      {
       "output_type": "stream",
       "stream": "stdout",
       "text": [
        "\n",
        "(31, 22)"
       ]
      },
      {
       "output_type": "stream",
       "stream": "stdout",
       "text": [
        "\n",
        "(31, 22)"
       ]
      },
      {
       "output_type": "stream",
       "stream": "stdout",
       "text": [
        "\n",
        "(28, 22)"
       ]
      },
      {
       "output_type": "stream",
       "stream": "stdout",
       "text": [
        "\n",
        "(31, 22)"
       ]
      },
      {
       "output_type": "stream",
       "stream": "stdout",
       "text": [
        "\n",
        "(31, 22)"
       ]
      },
      {
       "output_type": "stream",
       "stream": "stdout",
       "text": [
        "\n",
        "(28, 22)"
       ]
      },
      {
       "output_type": "stream",
       "stream": "stdout",
       "text": [
        "\n",
        "(31, 22)"
       ]
      },
      {
       "output_type": "stream",
       "stream": "stdout",
       "text": [
        "\n",
        "(31, 22)"
       ]
      },
      {
       "output_type": "stream",
       "stream": "stdout",
       "text": [
        "\n",
        "(28, 22)"
       ]
      },
      {
       "output_type": "stream",
       "stream": "stdout",
       "text": [
        "\n",
        "(31, 22)"
       ]
      },
      {
       "output_type": "stream",
       "stream": "stdout",
       "text": [
        "\n",
        "(31, 22)"
       ]
      },
      {
       "output_type": "stream",
       "stream": "stdout",
       "text": [
        "\n",
        "(28, 22)"
       ]
      },
      {
       "output_type": "stream",
       "stream": "stdout",
       "text": [
        "\n",
        "(31, 22)"
       ]
      },
      {
       "output_type": "stream",
       "stream": "stdout",
       "text": [
        "\n",
        "(31, 22)"
       ]
      },
      {
       "output_type": "stream",
       "stream": "stdout",
       "text": [
        "\n",
        "(28, 22)"
       ]
      },
      {
       "output_type": "stream",
       "stream": "stdout",
       "text": [
        "\n",
        "(31, 22)"
       ]
      },
      {
       "output_type": "stream",
       "stream": "stdout",
       "text": [
        "\n",
        "(31, 22)"
       ]
      },
      {
       "output_type": "stream",
       "stream": "stdout",
       "text": [
        "\n",
        "(28, 22)"
       ]
      },
      {
       "output_type": "stream",
       "stream": "stdout",
       "text": [
        "\n",
        "(31, 22)"
       ]
      },
      {
       "output_type": "stream",
       "stream": "stdout",
       "text": [
        "\n",
        "(31, 22)"
       ]
      },
      {
       "output_type": "stream",
       "stream": "stdout",
       "text": [
        "\n",
        "(28, 22)"
       ]
      },
      {
       "output_type": "stream",
       "stream": "stdout",
       "text": [
        "\n",
        "(31, 22)"
       ]
      },
      {
       "output_type": "stream",
       "stream": "stdout",
       "text": [
        "\n",
        "(31, 22)"
       ]
      },
      {
       "output_type": "stream",
       "stream": "stdout",
       "text": [
        "\n",
        "(28, 22)"
       ]
      },
      {
       "output_type": "stream",
       "stream": "stdout",
       "text": [
        "\n",
        "(31, 22)"
       ]
      },
      {
       "output_type": "stream",
       "stream": "stdout",
       "text": [
        "\n",
        "(31, 22)"
       ]
      },
      {
       "output_type": "stream",
       "stream": "stdout",
       "text": [
        "\n",
        "(28, 22)"
       ]
      },
      {
       "output_type": "stream",
       "stream": "stdout",
       "text": [
        "\n",
        "(31, 22)"
       ]
      },
      {
       "output_type": "stream",
       "stream": "stdout",
       "text": [
        "\n",
        "(31, 22)"
       ]
      },
      {
       "output_type": "stream",
       "stream": "stdout",
       "text": [
        "\n",
        "(28, 22)"
       ]
      },
      {
       "output_type": "stream",
       "stream": "stdout",
       "text": [
        "\n",
        "(31, 22)"
       ]
      },
      {
       "output_type": "stream",
       "stream": "stdout",
       "text": [
        "\n",
        "(31, 22)"
       ]
      },
      {
       "output_type": "stream",
       "stream": "stdout",
       "text": [
        "\n",
        "(28, 22)"
       ]
      },
      {
       "output_type": "stream",
       "stream": "stdout",
       "text": [
        "\n",
        "(31, 22)"
       ]
      },
      {
       "output_type": "stream",
       "stream": "stdout",
       "text": [
        "\n",
        "(31, 22)"
       ]
      },
      {
       "output_type": "stream",
       "stream": "stdout",
       "text": [
        "\n",
        "(28, 22)"
       ]
      },
      {
       "output_type": "stream",
       "stream": "stdout",
       "text": [
        "\n",
        "(31, 22)"
       ]
      },
      {
       "output_type": "stream",
       "stream": "stdout",
       "text": [
        "\n",
        "(31, 22)"
       ]
      },
      {
       "output_type": "stream",
       "stream": "stdout",
       "text": [
        "\n",
        "(28, 22)"
       ]
      },
      {
       "output_type": "stream",
       "stream": "stdout",
       "text": [
        "\n",
        "(31, 22)"
       ]
      },
      {
       "output_type": "stream",
       "stream": "stdout",
       "text": [
        "\n",
        "(31, 22)"
       ]
      },
      {
       "output_type": "stream",
       "stream": "stdout",
       "text": [
        "\n",
        "(28, 22)"
       ]
      },
      {
       "output_type": "stream",
       "stream": "stdout",
       "text": [
        "\n",
        "(31, 22)"
       ]
      },
      {
       "output_type": "stream",
       "stream": "stdout",
       "text": [
        "\n",
        "(31, 22)"
       ]
      },
      {
       "output_type": "stream",
       "stream": "stdout",
       "text": [
        "\n",
        "(28, 22)"
       ]
      },
      {
       "output_type": "stream",
       "stream": "stdout",
       "text": [
        "\n",
        "(31, 22)"
       ]
      },
      {
       "output_type": "stream",
       "stream": "stdout",
       "text": [
        "\n",
        "(31, 22)"
       ]
      },
      {
       "output_type": "stream",
       "stream": "stdout",
       "text": [
        "\n",
        "(28, 22)"
       ]
      },
      {
       "output_type": "stream",
       "stream": "stdout",
       "text": [
        "\n",
        "(31, 22)"
       ]
      },
      {
       "output_type": "stream",
       "stream": "stdout",
       "text": [
        "\n",
        "(31, 22)"
       ]
      },
      {
       "output_type": "stream",
       "stream": "stdout",
       "text": [
        "\n",
        "(28, 22)"
       ]
      },
      {
       "output_type": "stream",
       "stream": "stdout",
       "text": [
        "\n",
        "(31, 22)"
       ]
      },
      {
       "output_type": "stream",
       "stream": "stdout",
       "text": [
        "\n",
        "(31, 22)"
       ]
      },
      {
       "output_type": "stream",
       "stream": "stdout",
       "text": [
        "\n",
        "(28, 22)"
       ]
      },
      {
       "output_type": "stream",
       "stream": "stdout",
       "text": [
        "\n",
        "(31, 22)"
       ]
      },
      {
       "output_type": "stream",
       "stream": "stdout",
       "text": [
        "\n",
        "(31, 22)"
       ]
      },
      {
       "output_type": "stream",
       "stream": "stdout",
       "text": [
        "\n",
        "(28, 22)"
       ]
      },
      {
       "output_type": "stream",
       "stream": "stdout",
       "text": [
        "\n",
        "(31, 22)"
       ]
      },
      {
       "output_type": "stream",
       "stream": "stdout",
       "text": [
        "\n"
       ]
      }
     ],
     "prompt_number": 227
    },
    {
     "cell_type": "code",
     "collapsed": false,
     "input": [
      "if sys.byteorder=='little':\n",
      "    Tmean1save.byteswap(True)\n",
      "    Tmean2save.byteswap(True)\n",
      "    Tmean3save.byteswap(True)\n",
      "    Tgradsave.byteswap(True)\n",
      "    Umean1save.byteswap(True)\n",
      "    Umean2save.byteswap(True)\n",
      "    ZAsave.byteswap(True)\n",
      "#Create the binary files of the input files\n",
      "filename=open(r'./Tmean1.bin','wb')\n",
      "Tmean1save.ravel().tofile(filename)\n",
      "filename.close()\n",
      "filename=open(r'./Tmean2.bin','wb')\n",
      "Tmean2save.ravel().tofile(filename)\n",
      "filename.close()\n",
      "filename=open(r'./Tmean3.bin','wb')\n",
      "Tmean3save.ravel().tofile(filename)\n",
      "filename.close()\n",
      "filename=open(r'./Tgrad.bin','wb')\n",
      "Tgradsave.ravel().tofile(filename)\n",
      "filename.close()\n",
      "filename=open(r'./Umean1.bin','wb')\n",
      "Umean1save.ravel().tofile(filename)\n",
      "filename.close()\n",
      "filename=open(r'./Umean2.bin','wb')\n",
      "Umean2save.ravel().tofile(filename)\n",
      "filename.close()\n",
      "filename=open(r'./ZA.bin','wb')\n",
      "ZAsave.ravel().tofile(filename)\n",
      "filename.close()"
     ],
     "language": "python",
     "metadata": {},
     "outputs": [],
     "prompt_number": 228
    },
    {
     "cell_type": "code",
     "collapsed": false,
     "input": [
      "Tmean3save.shape"
     ],
     "language": "python",
     "metadata": {},
     "outputs": [
      {
       "metadata": {},
       "output_type": "pyout",
       "prompt_number": 229,
       "text": [
        "(2611, 22)"
       ]
      }
     ],
     "prompt_number": 229
    },
    {
     "cell_type": "code",
     "collapsed": false,
     "input": [
      "nt = 365*49+1\n",
      "levels = 18\n",
      "file1=open('./data/Tmean1.bin','rb')\n",
      "Tmean1read=np.fromfile(file1)\n",
      "if sys.byteorder=='little':\n",
      "    Tmean1read.byteswap(True)\n",
      "Tmean1read=Tmean1read.reshape(nt,levels)\n",
      "\n",
      "file1=open('./data/Tmean2.bin','rb')\n",
      "Tmean2read=np.fromfile(file1)\n",
      "if sys.byteorder=='little':\n",
      "    Tmean2read.byteswap(True)\n",
      "Tmean2read=Tmean2read.reshape(nt,levels)\n",
      "\n",
      "file1=open('./data/Tmean3.bin','rb')\n",
      "Tmean3read=np.fromfile(file1)\n",
      "if sys.byteorder=='little':\n",
      "    Tmean3read.byteswap(True)\n",
      "Tmean3read=Tmean3read.reshape(nt,levels)\n",
      "\n",
      "file1=open('./data/Tgrad.bin','rb')\n",
      "Tgradread=np.fromfile(file1)\n",
      "if sys.byteorder=='little':\n",
      "    Tgradread.byteswap(True)\n",
      "Tgradread=Tgradread.reshape(nt,levels)\n",
      "\n",
      "file1=open('./data/Umean1.bin','rb')\n",
      "Umean1read=np.fromfile(file1)\n",
      "if sys.byteorder=='little':\n",
      "    Umean1read.byteswap(True)\n",
      "Umean1read=Umean1read.reshape(nt,levels)\n",
      "\n",
      "file1=open('./data/Umean2.bin','rb')\n",
      "Umean2read=np.fromfile(file1)\n",
      "if sys.byteorder=='little':\n",
      "    Umean2read.byteswap(True)\n",
      "Umean2read=Umean2read.reshape(nt,levels)\n",
      "\n",
      "file1=open('./data/ZA.bin','rb')\n",
      "ZAread=np.fromfile(file1)\n",
      "if sys.byteorder=='little':\n",
      "    ZAread.byteswap(True)\n",
      "ZAread=ZAread.reshape(nt,levels,3)\n",
      "\n",
      "file1=open('./data/Zphase.bin','rb')\n",
      "Zphaseread=np.fromfile(file1)\n",
      "if sys.byteorder=='little':\n",
      "    Zphaseread.byteswap(True)\n",
      "Zphaseread=Zphaseread.reshape(nt,levels,2)"
     ],
     "language": "python",
     "metadata": {},
     "outputs": [],
     "prompt_number": 219
    },
    {
     "cell_type": "code",
     "collapsed": false,
     "input": [
      "Zphaseread[1:10,1]"
     ],
     "language": "python",
     "metadata": {},
     "outputs": [
      {
       "metadata": {},
       "output_type": "pyout",
       "prompt_number": 184,
       "text": [
        "array([[ 1.48309198, -2.98779342],\n",
        "       [ 1.36802279,  2.02289802],\n",
        "       [ 1.36493871, -0.50003271],\n",
        "       [ 1.42160998, -1.0650095 ],\n",
        "       [ 1.51857691, -1.25089635],\n",
        "       [ 1.59861707, -1.44875312],\n",
        "       [ 1.64073466, -1.64728156],\n",
        "       [ 1.66483662, -1.64557869],\n",
        "       [ 1.70383685, -1.33661176]])"
       ]
      }
     ],
     "prompt_number": 184
    },
    {
     "cell_type": "code",
     "collapsed": false,
     "input": [
      "# Normalizing data\n",
      "Tmean1read = Tmean1read[1:,:]\n",
      "Tmean2read = Tmean2read[1:,:]\n",
      "Tmean3read = Tmean3read[1:,:]\n",
      "Tmean1tend = Tmean1read[7:,:]-Tmean1read[0:nt-8,:]\n",
      "Tmean2tend = Tmean2read[7:,:]-Tmean2read[0:nt-8,:]\n",
      "Tmean3tend = Tmean3read[7:,:]-Tmean3read[0:nt-8,:]\n",
      "Tgradread = Tgradread[1:,:]\n",
      "Tgradtend = Tgradread[7:,:]-Tgradread[0:nt-8,:]\n",
      "Umean1read = Umean1read[1:,:]\n",
      "Umean2read = Umean2read[1:,:]\n",
      "Umean1tend = Umean1read[7:,:]-Umean1read[0:nt-8,:]\n",
      "Umean2tend = Umean2read[7:,:]-Umean2read[0:nt-8,:]\n",
      "ZAread = ZAread[1:,:]\n",
      "ZA1read = ZAread[:,:,1]/ZAread[:,:,0]\n",
      "ZA2read = ZAread[:,:,2]/ZAread[:,:,0]\n",
      "Zphase1read = Zphaseread[1:,:,0]\n",
      "Zphase2read = Zphaseread[1:,:,1]\n",
      "\n",
      "Tmean1_scaled = preprocessing.scale(Tmean1read[7:,:])\n",
      "Tmean2_scaled = preprocessing.scale(Tmean2read[7:,:])\n",
      "Tmean3_scaled = preprocessing.scale(Tmean3read[7:,:])\n",
      "Tmean1tend_scaled = preprocessing.scale(Tmean1tend)\n",
      "Tmean2tend_scaled = preprocessing.scale(Tmean2tend)\n",
      "Tmean3tend_scaled = preprocessing.scale(Tmean3tend)\n",
      "Tgrad_scaled = preprocessing.scale(Tgradread[7:,:])\n",
      "Tgradtend_scaled = preprocessing.scale(Tgradtend)\n",
      "Umean1_scaled = preprocessing.scale(Umean1read[7:,:])\n",
      "Umean2_scaled = preprocessing.scale(Umean2read[7:,:])\n",
      "Umean1tend_scaled = preprocessing.scale(Umean1tend)\n",
      "Umean2tend_scaled = preprocessing.scale(Umean2tend)\n",
      "ZA1_scaled = preprocessing.scale(ZA1read[7:,:])\n",
      "ZA2_scaled = preprocessing.scale(ZA2read[7:,:])\n",
      "Zphase1_scaled = preprocessing.scale(Zphase1read[7:,:])\n",
      "Zphase2_scaled = preprocessing.scale(Zphase2read[7:,:])"
     ],
     "language": "python",
     "metadata": {},
     "outputs": [],
     "prompt_number": 220
    },
    {
     "cell_type": "code",
     "collapsed": false,
     "input": [
      "X = np.concatenate((Tmean1_scaled,Tmean2_scaled,Tmean3_scaled,Tmean1tend_scaled,Tmean2tend_scaled,Tmean3tend_scaled,\n",
      "                    Tgrad_scaled,Tgradtend_scaled,Umean1_scaled,Umean2_scaled,Umean1tend_scaled,Umean2tend_scaled,ZA1_scaled,ZA2_scaled),axis=1)\n",
      "X_scaled = preprocessing.scale(X,axis=1)"
     ],
     "language": "python",
     "metadata": {},
     "outputs": [],
     "prompt_number": 221
    },
    {
     "cell_type": "code",
     "collapsed": false,
     "input": [
      "n_clusters = 2;\n",
      "kmeans = KMeans(n_clusters=n_clusters, random_state=0).fit(X)\n",
      "cluster_labels=kmeans.labels_\n",
      "silhouette_values = silhouette_samples(X,cluster_labels)"
     ],
     "language": "python",
     "metadata": {},
     "outputs": [],
     "prompt_number": 222
    },
    {
     "cell_type": "code",
     "collapsed": false,
     "input": [
      "y_lower = 10\n",
      "ax1 = plt.subplot(111)\n",
      "silhouette_avg = silhouette_score(X, cluster_labels)\n",
      "for i in range(n_clusters):\n",
      "    # Aggregate the silhouette scores for samples belonging to\n",
      "    # cluster i, and sort them\n",
      "    ith_cluster_silhouette_values = \\\n",
      "    silhouette_values[cluster_labels == i]\n",
      "\n",
      "    ith_cluster_silhouette_values.sort()\n",
      "\n",
      "    size_cluster_i = ith_cluster_silhouette_values.shape[0]\n",
      "    y_upper = y_lower + size_cluster_i\n",
      "\n",
      "    color = cm.spectral(float(i) / n_clusters)\n",
      "    ax1.fill_betweenx(np.arange(y_lower, y_upper),\n",
      "                    0, ith_cluster_silhouette_values,\n",
      "                    facecolor=color, edgecolor=color, alpha=0.7)\n",
      "\n",
      "    # Label the silhouette plots with their cluster numbers at the middle\n",
      "    ax1.text(-0.05, y_lower + 0.5 * size_cluster_i, str(i))\n",
      "\n",
      "    # Compute the new y_lower for next plot\n",
      "    y_lower = y_upper + 10  # 10 for the 0 samples\n",
      "\n",
      "ax1.set_title(\"The silhouette plot for the various clusters.\")\n",
      "ax1.set_xlabel(\"The silhouette coefficient values\")\n",
      "ax1.set_ylabel(\"Cluster label\")\n",
      "\n",
      "    # The vertical line for average silhouette score of all the values\n",
      "ax1.axvline(x=silhouette_avg, color=\"red\", linestyle=\"--\")\n",
      "\n",
      "ax1.set_yticks([])  # Clear the yaxis labels / ticks\n",
      "ax1.set_xticks([-0.1, 0, 0.2, 0.4, 0.6, 0.8, 1])\n",
      "print(\"For n_clusters =\", n_clusters,\n",
      "          \"The average silhouette_score is :\", silhouette_avg)"
     ],
     "language": "python",
     "metadata": {},
     "outputs": [
      {
       "output_type": "stream",
       "stream": "stdout",
       "text": [
        "('For n_clusters =', 2, 'The average silhouette_score is :', 0.24892032285276519)\n"
       ]
      },
      {
       "metadata": {},
       "output_type": "display_data",
       "png": "[encoded data removed]",
       "text": [
        "<matplotlib.figure.Figure at 0x2b3e8244cad0>"
       ]
      }
     ],
     "prompt_number": 223
    },
    {
     "cell_type": "code",
     "collapsed": false,
     "input": [
      "for i in range(0,100):\n",
      "    print Tmean3read[i+7,7],Tmean3tend[i+7,7],Umean1read[i+7,7],cluster_labels[i]"
     ],
     "language": "python",
     "metadata": {},
     "outputs": [
      {
       "output_type": "stream",
       "stream": "stdout",
       "text": [
        "186.789242613 -3.55206682075 36.617272051 0\n",
        "186.093845845 -3.78814807273 37.285472935 0\n",
        "185.083973168 -3.35917001296 37.5958974832 0\n",
        "184.726880922 -2.43941552838 38.2470608814 0\n",
        "184.917075369 -1.09236172075 39.248041584 0\n",
        "184.779426705 0.511317393134 40.2106486142 0\n",
        "184.000854919 1.66419715238 41.6317388652 0\n",
        "183.237175792 1.40519944048 42.8248524868 0\n",
        "182.305697772 0.694117130732 43.7452765712 0\n",
        "181.724803155 0.287108957219 44.5176705406 0\n",
        "182.287465394 -0.402228881427 44.5524223044 0\n",
        "183.824713648 -1.76378000398 43.251293877 0\n",
        "185.290744098 -3.2086517416 42.1520269301 0\n",
        "185.665052071 -3.50065460292 42.6446364418 0\n",
        "184.642375233 -2.0321735247 44.5181003634 0\n",
        "182.999814903 0.261032237411 46.0724997325 0\n",
        "182.011912113 3.08849335675 46.6623638829 0\n",
        "181.885236513 5.47191572082 46.2153563839 0\n",
        "182.060933644 7.12124473807 44.9204232541 0\n",
        "182.082092357 8.57530227634 44.1245135929 0\n",
        "182.164397468 9.14053675154 44.497238753 0\n",
        "182.610201708 7.96846925267 46.0465648386 0\n",
        "183.26084714 5.93221235534 46.5790729186 0\n",
        "185.100405469 2.46460503911 45.1651269501 0\n",
        "187.357152233 -0.290534508707 42.4747741048 0\n",
        "189.182178382 -2.44713544398 39.1743906254 0\n",
        "190.657394633 -5.50229915194 36.9591349722 1\n",
        "191.30493422 -7.73242288511 35.5242225632 1\n",
        "190.578670961 -7.32303685276 34.9713490127 1\n",
        "189.193059496 -5.44838681955 37.337473672 1\n",
        "187.565010509 -3.82395521528 40.8474490051 0\n",
        "187.066617725 -0.829567938027 40.9257242379 0\n",
        "186.735042938 4.10236055113 41.2156206969 0\n",
        "185.155095481 8.40553152545 43.1517918339 0\n",
        "183.572511334 9.66139364816 46.6640056034 0\n",
        "183.255634108 9.9609998534 47.9138736218 0\n",
        "183.744672676 11.2227337403 46.9041229017 0\n",
        "183.741055293 15.7580319107 43.2325997572 0\n",
        "186.237049787 15.2373571157 37.4661051794 0\n",
        "190.837403489 10.9058646791 33.684231297 1\n",
        "193.560627007 7.73320195186 32.1349390311 1\n",
        "193.233904983 7.2993251019 31.0359247134 1\n",
        "193.216633962 6.78544378628 29.9664497023 1\n",
        "194.967406417 5.56528400087 28.3390865231 1\n",
        "199.499087204 2.5268163788 27.2421503957 1\n",
        "201.474406902 1.97163342981 27.6250583138 1\n",
        "201.743268168 1.63583006769 27.4753129595 1\n",
        "201.293828959 -1.70172914432 27.3188985393 1\n",
        "200.533230084 -4.50416604292 27.8530241434 1\n",
        "200.002077748 -8.10148189921 28.261645772 1\n",
        "200.532690417 -14.318148398 27.291982755 1\n",
        "202.025903583 -18.9303192215 26.1432476613 1\n",
        "203.446040332 -20.7239941717 24.620863068 1\n",
        "203.379098236 -19.878769987 23.6181900121 1\n",
        "199.592099814 -13.8018255268 24.4443462476 1\n",
        "196.029064042 -6.01196630863 29.7209355698 1\n",
        "191.900595849 0.763460966411 37.2240230605 0\n",
        "186.214542019 6.27682118587 45.1607568644 0\n",
        "183.095584361 7.20155423303 52.3943939428 0\n",
        "182.722046161 8.67964085539 54.4043249088 0\n",
        "183.500328249 7.65740030266 49.3211927793 0\n",
        "185.790274287 1.17405547477 42.5135137134 0\n",
        "190.017097733 -4.93773885733 38.8874653702 0\n",
        "192.664056815 -8.26194881569 36.2010841961 0\n",
        "192.491363205 -9.18126843597 34.0026815841 1\n",
        "190.297138594 -6.74641563918 34.0246582874 1\n",
        "191.401687016 -6.9506097303 34.3375613602 1\n",
        "191.157728552 -6.26852822585 34.750209247 1\n",
        "186.964329762 -2.40897519855 36.247491423 0\n",
        "185.079358876 0.0333333770458 40.8606301777 0\n",
        "184.402107999 2.917844709 44.50756145 0\n",
        "183.310094769 5.85242446029 44.9925645549 0\n",
        "183.550722955 7.04886305238 42.796344259 0\n",
        "184.451077286 7.4991243215 40.9449910183 0\n",
        "184.889200326 9.02272377599 39.3865138902 0\n",
        "184.555354564 11.3117231385 38.9882341367 0\n",
        "185.112692253 13.3769371367 39.7202317559 0\n",
        "187.319952708 14.5111021643 38.5716654228 0\n",
        "189.16251923 13.5075514315 35.7293451329 1\n",
        "190.599586007 10.7255773139 33.1410933928 1\n",
        "191.950201607 9.63082597135 30.7467166991 1\n",
        "193.911924102 9.03351200261 28.2304456341 1\n",
        "195.867077702 7.25178516168 25.4863017809 1\n",
        "198.489629389 4.26493466636 23.3319857381 1\n",
        "201.831054873 0.678348836929 22.0480419368 1\n",
        "202.670070661 0.792303154724 21.6266635514 1\n",
        "201.325163321 3.865212149 21.305339486 1\n",
        "201.581027578 3.66674834664 19.3992416194 1\n",
        "202.945436105 0.351002973551 18.3363142106 1\n",
        "203.118862864 -3.13712302748 18.3685888408 1\n",
        "202.754564056 -7.10353349578 18.0183305528 1\n",
        "202.509403709 -9.34584806239 17.0136786243 1\n",
        "203.462373816 -11.51668081 17.1893893343 1\n",
        "205.19037547 -14.2789901127 18.0419354446 1\n",
        "205.247775925 -15.0683848808 20.6663035486 1\n",
        "203.296439078 -12.9966374335 23.2607443567 1\n",
        "199.981739836 -10.1436264349 24.0088615548 1\n",
        "195.65103056 -7.39607796521 24.5127753687 0\n",
        "193.163555647 -6.27575415082 26.3102827815 0\n",
        "191.945693006 -6.4145748481 27.2676975957 0\n"
       ]
      }
     ],
     "prompt_number": 224
    },
    {
     "cell_type": "code",
     "collapsed": false,
     "input": [
      "if sys.byteorder=='little':\n",
      "    X.byteswap(True)\n",
      "    X_scaled.byteswap(True)\n",
      "#Create the binary files of the input files\n",
      "filename=open(r'./SSWdata.bin','wb')\n",
      "X.ravel().tofile(filename)\n",
      "filename.close()\n",
      "filename=open(r'./SSWdata_scaled.bin','wb')\n",
      "X_scaled.ravel().tofile(filename)\n",
      "filename.close()"
     ],
     "language": "python",
     "metadata": {},
     "outputs": [],
     "prompt_number": 225
    },
    {
     "cell_type": "code",
     "collapsed": false,
     "input": [
      "ndata = 17878\n",
      "nfeatures = 252\n",
      "file1=open('./SSWdata.bin','rb')\n",
      "X1=np.fromfile(file1)\n",
      "if sys.byteorder=='little':\n",
      "    X1.byteswap(True)\n",
      "X1=X1.reshape(ndata,nfeatures)"
     ],
     "language": "python",
     "metadata": {},
     "outputs": [],
     "prompt_number": 227
    },
    {
     "cell_type": "code",
     "collapsed": false,
     "input": [
      "if sys.byteorder=='little':\n",
      "    cluster_labels.byteswap(True)\n",
      "#Create the binary files of the input files\n",
      "filename=open(r'./Label_py.bin','wb')\n",
      "cluster_labels.ravel().tofile(filename)\n",
      "filename.close()"
     ],
     "language": "python",
     "metadata": {},
     "outputs": [],
     "prompt_number": 246
    },
    {
     "cell_type": "code",
     "collapsed": false,
     "input": [
      "file1=open('./Label_py.bin','rb')\n",
      "Y_py=np.fromfile(file1,np.int32)\n",
      "if sys.byteorder=='little':\n",
      "    Y_py.byteswap(True)"
     ],
     "language": "python",
     "metadata": {},
     "outputs": [],
     "prompt_number": 247
    },
    {
     "cell_type": "code",
     "collapsed": false,
     "input": [],
     "language": "python",
     "metadata": {},
     "outputs": []
    }
   ],
   "metadata": {}
  }
 ]
}